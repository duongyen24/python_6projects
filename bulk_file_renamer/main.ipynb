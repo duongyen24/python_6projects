{
 "cells": [
  {
   "cell_type": "code",
   "execution_count": null,
   "source": [
    "import os"
   ],
   "outputs": [],
   "metadata": {}
  },
  {
   "cell_type": "code",
   "execution_count": 21,
   "source": [
    "def main():\r\n",
    "\ti = 0\r\n",
    "\tpath = 'C:/Users/84948/Desktop/test/'\r\n",
    "\tfor filename in os.listdir(path):\r\n",
    "\t\tmydest = 'img' + str(i)+'.png'\r\n",
    "\t\tmysource = path +filename #old name\r\n",
    "\t\tmydest = path+ mydest #new name\r\n",
    "\t\tos.rename(mysource, mydest)\r\n",
    "\t\ti += 1\r\n",
    "\r\n",
    "\r\n",
    "\r\n",
    "#if __name__ == '__main__':\r\n",
    "#\tmain()"
   ],
   "outputs": [],
   "metadata": {}
  },
  {
   "cell_type": "code",
   "execution_count": 22,
   "source": [
    "main()"
   ],
   "outputs": [],
   "metadata": {}
  },
  {
   "cell_type": "code",
   "execution_count": null,
   "source": [
    "\"\"\"\r\n",
    "import os\r\n",
    "creat MAIN()\r\n",
    "\ti = 0\r\n",
    "\tpath=...\r\n",
    "\tFOR LOOP:\r\n",
    "\t\tset filename to os.listdir(path)\r\n",
    "\t\tset  mydest = 'img' + str(i)+'png'\r\n",
    "\t\told name = path+ filename\r\n",
    "\t\tnew name = path+ mydest\r\n",
    "\t\trename (oldname,newname)\r\n",
    "\t\ti+=1\r\n",
    "call main()\r\n",
    "\r\n",
    "\"\"\""
   ],
   "outputs": [],
   "metadata": {}
  }
 ],
 "metadata": {
  "orig_nbformat": 4,
  "language_info": {
   "name": "python",
   "version": "3.8.8",
   "mimetype": "text/x-python",
   "codemirror_mode": {
    "name": "ipython",
    "version": 3
   },
   "pygments_lexer": "ipython3",
   "nbconvert_exporter": "python",
   "file_extension": ".py"
  },
  "kernelspec": {
   "name": "python3",
   "display_name": "Python 3.8.8 64-bit ('base': conda)"
  },
  "interpreter": {
   "hash": "1343dd182ee7a925c2fcdd0e3ab758702907cd8a361f6a4fcb95586f1f6081c2"
  }
 },
 "nbformat": 4,
 "nbformat_minor": 2
}