{
 "cells": [
  {
   "cell_type": "code",
   "execution_count": 2,
   "source": [
    "import requests\r\n",
    "from pprint import pprint"
   ],
   "outputs": [],
   "metadata": {}
  },
  {
   "cell_type": "code",
   "execution_count": 3,
   "source": [
    "API_key = 'eac735208236eb5280f0148d6fc026c4'\r\n",
    "city = input('enter city:')\r\n",
    "url = 'http://api.openweathermap.org/data/2.5/weather?q='+city+'&appid='+ API_key\r\n",
    "\r\n",
    "data = requests.get(url).json()\r\n",
    "print(data)"
   ],
   "outputs": [
    {
     "output_type": "stream",
     "name": "stdout",
     "text": [
      "{'coord': {'lon': 139.6917, 'lat': 35.6895}, 'weather': [{'id': 520, 'main': 'Rain', 'description': 'light intensity shower rain', 'icon': '09d'}], 'base': 'stations', 'main': {'temp': 299.05, 'feels_like': 299.52, 'temp_min': 295.54, 'temp_max': 301.23, 'pressure': 1008, 'humidity': 70}, 'visibility': 10000, 'wind': {'speed': 0.45, 'deg': 151, 'gust': 1.79}, 'rain': {'1h': 0.17}, 'clouds': {'all': 75}, 'dt': 1632985584, 'sys': {'type': 2, 'id': 2038398, 'country': 'JP', 'sunrise': 1632947700, 'sunset': 1632990451}, 'timezone': 32400, 'id': 1850144, 'name': 'Tokyo', 'cod': 200}\n"
     ]
    }
   ],
   "metadata": {}
  },
  {
   "cell_type": "code",
   "execution_count": null,
   "source": [],
   "outputs": [],
   "metadata": {}
  }
 ],
 "metadata": {
  "orig_nbformat": 4,
  "language_info": {
   "name": "python",
   "version": "3.8.8",
   "mimetype": "text/x-python",
   "codemirror_mode": {
    "name": "ipython",
    "version": 3
   },
   "pygments_lexer": "ipython3",
   "nbconvert_exporter": "python",
   "file_extension": ".py"
  },
  "kernelspec": {
   "name": "python3",
   "display_name": "Python 3.8.8 64-bit ('base': conda)"
  },
  "interpreter": {
   "hash": "1343dd182ee7a925c2fcdd0e3ab758702907cd8a361f6a4fcb95586f1f6081c2"
  }
 },
 "nbformat": 4,
 "nbformat_minor": 2
}